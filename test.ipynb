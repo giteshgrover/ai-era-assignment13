{
 "cells": [
  {
   "cell_type": "markdown",
   "metadata": {},
   "source": [
    "```"
   ]
  },
  {
   "cell_type": "markdown",
   "metadata": {},
   "source": [
    "```"
   ]
  },
  {
   "cell_type": "markdown",
   "metadata": {},
   "source": [
    "```\n",
    "warnings.warn(\n",
    "LlamaForCausalLM(\n",
    "  (model): LlamaModel(\n",
    "    (embed_tokens): Embedding(49152, 576)\n",
    "    (layers): ModuleList(\n",
    "      (0-29): 30 x LlamaDecoderLayer(\n",
    "        (self_attn): LlamaAttention(\n",
    "          (q_proj): Linear(in_features=576, out_features=576, bias=False)\n",
    "          (k_proj): Linear(in_features=576, out_features=192, bias=False)\n",
    "          (v_proj): Linear(in_features=576, out_features=192, bias=False)\n",
    "          (o_proj): Linear(in_features=576, out_features=576, bias=False)\n",
    "        )\n",
    "        (mlp): LlamaMLP(\n",
    "          (gate_proj): Linear(in_features=576, out_features=1536, bias=False)\n",
    "          (up_proj): Linear(in_features=576, out_features=1536, bias=False)\n",
    "          (down_proj): Linear(in_features=1536, out_features=576, bias=False)\n",
    "          (act_fn): SiLU()\n",
    "        )\n",
    "        (input_layernorm): LlamaRMSNorm((576,), eps=1e-05)\n",
    "        (post_attention_layernorm): LlamaRMSNorm((576,), eps=1e-05)\n",
    "      )\n",
    "    )\n",
    "    (norm): LlamaRMSNorm((576,), eps=1e-05)\n",
    "    (rotary_emb): LlamaRotaryEmbedding()\n",
    "  )\n",
    "  (lm_head): Linear(in_features=576, out_features=49152, bias=False)\n",
    ")\n",
    "```\n"
   ]
  },
  {
   "cell_type": "markdown",
   "metadata": {},
   "source": []
  },
  {
   "cell_type": "markdown",
   "metadata": {},
   "source": []
  }
 ],
 "metadata": {
  "language_info": {
   "name": "python"
  }
 },
 "nbformat": 4,
 "nbformat_minor": 2
}
